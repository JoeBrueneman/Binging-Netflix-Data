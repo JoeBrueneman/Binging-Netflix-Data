{
 "cells": [
  {
   "cell_type": "code",
   "execution_count": 1,
   "metadata": {},
   "outputs": [],
   "source": [
    "# Import the dependencies.\n",
    "import numpy as np\n",
    "\n",
    "import pandas as pd\n",
    "import sqlalchemy\n",
    "from sqlalchemy.ext.automap import automap_base\n",
    "from sqlalchemy.orm import Session\n",
    "from sqlalchemy import create_engine, text, inspect, func\n",
    "import datetime as dt\n",
    "\n",
    "from flask import Flask, jsonify"
   ]
  },
  {
   "cell_type": "code",
   "execution_count": 2,
   "metadata": {},
   "outputs": [],
   "source": [
    "data = pd.read_csv(\"Resources/Netflix_Test_Data.csv\")"
   ]
  },
  {
   "cell_type": "code",
   "execution_count": 3,
   "metadata": {},
   "outputs": [],
   "source": [
    "file_db = create_engine('sqlite:///netflix.db')"
   ]
  },
  {
   "cell_type": "code",
   "execution_count": 4,
   "metadata": {},
   "outputs": [],
   "source": [
    "engine = data.to_sql('Netflix_Test_Data', file_db)"
   ]
  },
  {
   "cell_type": "code",
   "execution_count": 6,
   "metadata": {},
   "outputs": [],
   "source": [
    "#engine = create_engine(\"sqlite:///Netflix_SQL_Data.sql\")"
   ]
  },
  {
   "cell_type": "code",
   "execution_count": 5,
   "metadata": {},
   "outputs": [
    {
     "ename": "NoInspectionAvailable",
     "evalue": "No inspection system is available for object of type <class 'int'>",
     "output_type": "error",
     "traceback": [
      "\u001b[1;31m---------------------------------------------------------------------------\u001b[0m",
      "\u001b[1;31mNoInspectionAvailable\u001b[0m                     Traceback (most recent call last)",
      "Cell \u001b[1;32mIn[5], line 1\u001b[0m\n\u001b[1;32m----> 1\u001b[0m inspector \u001b[38;5;241m=\u001b[39m \u001b[43minspect\u001b[49m\u001b[43m(\u001b[49m\u001b[43mengine\u001b[49m\u001b[43m)\u001b[49m\n\u001b[0;32m      2\u001b[0m inspector\u001b[38;5;241m.\u001b[39mget_table_names()\n",
      "File \u001b[1;32m~\\anaconda3\\envs\\dev\\lib\\site-packages\\sqlalchemy\\inspection.py:71\u001b[0m, in \u001b[0;36minspect\u001b[1;34m(subject, raiseerr)\u001b[0m\n\u001b[0;32m     68\u001b[0m     reg \u001b[38;5;241m=\u001b[39m ret \u001b[38;5;241m=\u001b[39m \u001b[38;5;28;01mNone\u001b[39;00m\n\u001b[0;32m     70\u001b[0m \u001b[38;5;28;01mif\u001b[39;00m raiseerr \u001b[38;5;129;01mand\u001b[39;00m (reg \u001b[38;5;129;01mis\u001b[39;00m \u001b[38;5;28;01mNone\u001b[39;00m \u001b[38;5;129;01mor\u001b[39;00m ret \u001b[38;5;129;01mis\u001b[39;00m \u001b[38;5;28;01mNone\u001b[39;00m):\n\u001b[1;32m---> 71\u001b[0m     \u001b[38;5;28;01mraise\u001b[39;00m exc\u001b[38;5;241m.\u001b[39mNoInspectionAvailable(\n\u001b[0;32m     72\u001b[0m         \u001b[38;5;124m\"\u001b[39m\u001b[38;5;124mNo inspection system is \u001b[39m\u001b[38;5;124m\"\u001b[39m\n\u001b[0;32m     73\u001b[0m         \u001b[38;5;124m\"\u001b[39m\u001b[38;5;124mavailable for object of type \u001b[39m\u001b[38;5;132;01m%s\u001b[39;00m\u001b[38;5;124m\"\u001b[39m \u001b[38;5;241m%\u001b[39m type_\n\u001b[0;32m     74\u001b[0m     )\n\u001b[0;32m     75\u001b[0m \u001b[38;5;28;01mreturn\u001b[39;00m ret\n",
      "\u001b[1;31mNoInspectionAvailable\u001b[0m: No inspection system is available for object of type <class 'int'>"
     ]
    }
   ],
   "source": [
    "inspector = inspect(engine)\n",
    "inspector.get_table_names()"
   ]
  },
  {
   "cell_type": "code",
   "execution_count": 6,
   "metadata": {},
   "outputs": [
    {
     "ename": "NoInspectionAvailable",
     "evalue": "No inspection system is available for object of type <class 'int'>",
     "output_type": "error",
     "traceback": [
      "\u001b[1;31m---------------------------------------------------------------------------\u001b[0m",
      "\u001b[1;31mNoInspectionAvailable\u001b[0m                     Traceback (most recent call last)",
      "Cell \u001b[1;32mIn[6], line 1\u001b[0m\n\u001b[1;32m----> 1\u001b[0m inspector \u001b[38;5;241m=\u001b[39m \u001b[43minspect\u001b[49m\u001b[43m(\u001b[49m\u001b[43mengine\u001b[49m\u001b[43m)\u001b[49m\n\u001b[0;32m      2\u001b[0m columns \u001b[38;5;241m=\u001b[39m inspector\u001b[38;5;241m.\u001b[39mget_columns(\u001b[38;5;124m'\u001b[39m\u001b[38;5;124mNetflix_Test_Data\u001b[39m\u001b[38;5;124m'\u001b[39m)\n\u001b[0;32m      3\u001b[0m \u001b[38;5;28;01mfor\u001b[39;00m c \u001b[38;5;129;01min\u001b[39;00m columns:\n",
      "File \u001b[1;32m~\\anaconda3\\envs\\dev\\lib\\site-packages\\sqlalchemy\\inspection.py:71\u001b[0m, in \u001b[0;36minspect\u001b[1;34m(subject, raiseerr)\u001b[0m\n\u001b[0;32m     68\u001b[0m     reg \u001b[38;5;241m=\u001b[39m ret \u001b[38;5;241m=\u001b[39m \u001b[38;5;28;01mNone\u001b[39;00m\n\u001b[0;32m     70\u001b[0m \u001b[38;5;28;01mif\u001b[39;00m raiseerr \u001b[38;5;129;01mand\u001b[39;00m (reg \u001b[38;5;129;01mis\u001b[39;00m \u001b[38;5;28;01mNone\u001b[39;00m \u001b[38;5;129;01mor\u001b[39;00m ret \u001b[38;5;129;01mis\u001b[39;00m \u001b[38;5;28;01mNone\u001b[39;00m):\n\u001b[1;32m---> 71\u001b[0m     \u001b[38;5;28;01mraise\u001b[39;00m exc\u001b[38;5;241m.\u001b[39mNoInspectionAvailable(\n\u001b[0;32m     72\u001b[0m         \u001b[38;5;124m\"\u001b[39m\u001b[38;5;124mNo inspection system is \u001b[39m\u001b[38;5;124m\"\u001b[39m\n\u001b[0;32m     73\u001b[0m         \u001b[38;5;124m\"\u001b[39m\u001b[38;5;124mavailable for object of type \u001b[39m\u001b[38;5;132;01m%s\u001b[39;00m\u001b[38;5;124m\"\u001b[39m \u001b[38;5;241m%\u001b[39m type_\n\u001b[0;32m     74\u001b[0m     )\n\u001b[0;32m     75\u001b[0m \u001b[38;5;28;01mreturn\u001b[39;00m ret\n",
      "\u001b[1;31mNoInspectionAvailable\u001b[0m: No inspection system is available for object of type <class 'int'>"
     ]
    }
   ],
   "source": [
    "inspector = inspect(engine)\n",
    "columns = inspector.get_columns('Netflix_Test_Data')\n",
    "for c in columns:\n",
    "    print(c['name'], c[\"type\"])"
   ]
  },
  {
   "cell_type": "code",
   "execution_count": 7,
   "metadata": {},
   "outputs": [
    {
     "data": {
      "text/html": [
       "<div>\n",
       "<style scoped>\n",
       "    .dataframe tbody tr th:only-of-type {\n",
       "        vertical-align: middle;\n",
       "    }\n",
       "\n",
       "    .dataframe tbody tr th {\n",
       "        vertical-align: top;\n",
       "    }\n",
       "\n",
       "    .dataframe thead th {\n",
       "        text-align: right;\n",
       "    }\n",
       "</style>\n",
       "<table border=\"1\" class=\"dataframe\">\n",
       "  <thead>\n",
       "    <tr style=\"text-align: right;\">\n",
       "      <th></th>\n",
       "      <th>Title</th>\n",
       "      <th>OriginalTitle</th>\n",
       "      <th>Release Date</th>\n",
       "      <th>Hours Viewed</th>\n",
       "      <th>Number of Ratings</th>\n",
       "      <th>Rating</th>\n",
       "      <th>Genre</th>\n",
       "      <th>Country</th>\n",
       "      <th>TV-Rating</th>\n",
       "      <th>Description</th>\n",
       "    </tr>\n",
       "  </thead>\n",
       "  <tbody>\n",
       "    <tr>\n",
       "      <th>0</th>\n",
       "      <td>The Night Agent</td>\n",
       "      <td>NaN</td>\n",
       "      <td>3/23/2023</td>\n",
       "      <td>812100000</td>\n",
       "      <td>7696</td>\n",
       "      <td>6.0</td>\n",
       "      <td>Comedy</td>\n",
       "      <td>USA,China,Korea</td>\n",
       "      <td>R</td>\n",
       "      <td>Lorem ipsum dolor sit amet, consectetur adipis...</td>\n",
       "    </tr>\n",
       "    <tr>\n",
       "      <th>1</th>\n",
       "      <td>Ginny &amp; Georgia</td>\n",
       "      <td>NaN</td>\n",
       "      <td>1/5/2023</td>\n",
       "      <td>665100000</td>\n",
       "      <td>5216</td>\n",
       "      <td>5.7</td>\n",
       "      <td>Action</td>\n",
       "      <td>Global</td>\n",
       "      <td>PG-13</td>\n",
       "      <td>Lorem ipsum dolor sit amet, consectetur adipis...</td>\n",
       "    </tr>\n",
       "    <tr>\n",
       "      <th>2</th>\n",
       "      <td>The Glory</td>\n",
       "      <td>더 글로리: 시즌 1</td>\n",
       "      <td>12/30/2022</td>\n",
       "      <td>622800000</td>\n",
       "      <td>11869</td>\n",
       "      <td>8.4</td>\n",
       "      <td>dystopia</td>\n",
       "      <td>USA,China,Korea</td>\n",
       "      <td>M</td>\n",
       "      <td>Lorem ipsum dolor sit amet, consectetur adipis...</td>\n",
       "    </tr>\n",
       "    <tr>\n",
       "      <th>3</th>\n",
       "      <td>Wednesday</td>\n",
       "      <td>NaN</td>\n",
       "      <td>11/23/2022</td>\n",
       "      <td>507700000</td>\n",
       "      <td>23545</td>\n",
       "      <td>73.0</td>\n",
       "      <td>Animation</td>\n",
       "      <td>Global</td>\n",
       "      <td>PG</td>\n",
       "      <td>Lorem ipsum dolor sit amet, consectetur adipis...</td>\n",
       "    </tr>\n",
       "    <tr>\n",
       "      <th>4</th>\n",
       "      <td>Queen Charlotte: A Bridgerton Story</td>\n",
       "      <td>NaN</td>\n",
       "      <td>5/4/2023</td>\n",
       "      <td>503000000</td>\n",
       "      <td>50077</td>\n",
       "      <td>7.4</td>\n",
       "      <td>Horror</td>\n",
       "      <td>Global</td>\n",
       "      <td>G</td>\n",
       "      <td>Lorem ipsum dolor sit amet, consectetur adipis...</td>\n",
       "    </tr>\n",
       "  </tbody>\n",
       "</table>\n",
       "</div>"
      ],
      "text/plain": [
       "                                 Title OriginalTitle Release Date  \\\n",
       "0                      The Night Agent           NaN    3/23/2023   \n",
       "1                      Ginny & Georgia           NaN     1/5/2023   \n",
       "2                            The Glory   더 글로리: 시즌 1   12/30/2022   \n",
       "3                            Wednesday           NaN   11/23/2022   \n",
       "4  Queen Charlotte: A Bridgerton Story           NaN     5/4/2023   \n",
       "\n",
       "   Hours Viewed  Number of Ratings  Rating      Genre          Country  \\\n",
       "0     812100000               7696     6.0     Comedy  USA,China,Korea   \n",
       "1     665100000               5216     5.7     Action           Global   \n",
       "2     622800000              11869     8.4   dystopia  USA,China,Korea   \n",
       "3     507700000              23545    73.0  Animation           Global   \n",
       "4     503000000              50077     7.4     Horror           Global   \n",
       "\n",
       "  TV-Rating                                        Description  \n",
       "0         R  Lorem ipsum dolor sit amet, consectetur adipis...  \n",
       "1     PG-13  Lorem ipsum dolor sit amet, consectetur adipis...  \n",
       "2         M  Lorem ipsum dolor sit amet, consectetur adipis...  \n",
       "3        PG  Lorem ipsum dolor sit amet, consectetur adipis...  \n",
       "4         G  Lorem ipsum dolor sit amet, consectetur adipis...  "
      ]
     },
     "execution_count": 7,
     "metadata": {},
     "output_type": "execute_result"
    }
   ],
   "source": [
    "data.head()"
   ]
  },
  {
   "cell_type": "code",
   "execution_count": null,
   "metadata": {},
   "outputs": [],
   "source": []
  }
 ],
 "metadata": {
  "kernelspec": {
   "display_name": "Python 3 (ipykernel)",
   "language": "python",
   "name": "python3"
  },
  "language_info": {
   "codemirror_mode": {
    "name": "ipython",
    "version": 3
   },
   "file_extension": ".py",
   "mimetype": "text/x-python",
   "name": "python",
   "nbconvert_exporter": "python",
   "pygments_lexer": "ipython3",
   "version": "3.10.13"
  }
 },
 "nbformat": 4,
 "nbformat_minor": 4
}
